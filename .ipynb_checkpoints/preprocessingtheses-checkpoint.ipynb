{
 "cells": [
  {
   "cell_type": "code",
   "execution_count": 1,
   "metadata": {},
   "outputs": [],
   "source": [
    " merged_df_path = \"s3://lgo-theses-test/merged_mimo_df.csv\""
   ]
  },
  {
   "cell_type": "code",
   "execution_count": 9,
   "metadata": {},
   "outputs": [],
   "source": [
    "import pandas as pd\n",
    "import re\n",
    "thesis_df = pd.read_csv(merged_df_path)\n",
    "thesis_df['cleaned_thesis']=thesis_df['Theses'].str.replace(\"\\n\",\" \")\n",
    "thesis_df['cleaned_thesis']=thesis_df['cleaned_thesis'].str.replace(\"\\x0c\",\" \")\n",
    "thesis_df['cleaned_thesis']=thesis_df['cleaned_thesis'].str.replace(r'[^\\w\\s]',\" \")\n",
    "thesis_df['cleaned_thesis']=thesis_df['cleaned_thesis'].str.replace(r'_',\" \")\n"
   ]
  },
  {
   "cell_type": "code",
   "execution_count": 11,
   "metadata": {},
   "outputs": [],
   "source": [
    "#Save cleaned thesis dataframe back to s3\n",
    "thesis_df.to_csv(\"s3://lgo-theses-test/merged_mimo_df_preprocessed.csv\")"
   ]
  },
  {
   "cell_type": "code",
   "execution_count": 1,
   "metadata": {},
   "outputs": [],
   "source": [
    "#thesis_df['cleaned_thesis'][0]"
   ]
  },
  {
   "cell_type": "code",
   "execution_count": null,
   "metadata": {},
   "outputs": [],
   "source": []
  }
 ],
 "metadata": {
  "kernelspec": {
   "display_name": "Python 3",
   "language": "python",
   "name": "python3"
  },
  "language_info": {
   "codemirror_mode": {
    "name": "ipython",
    "version": 3
   },
   "file_extension": ".py",
   "mimetype": "text/x-python",
   "name": "python",
   "nbconvert_exporter": "python",
   "pygments_lexer": "ipython3",
   "version": "3.7.4"
  }
 },
 "nbformat": 4,
 "nbformat_minor": 4
}
